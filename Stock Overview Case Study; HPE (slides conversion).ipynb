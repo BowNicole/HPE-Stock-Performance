{
 "cells": [
  {
   "cell_type": "markdown",
   "id": "bb2bc71e",
   "metadata": {
    "slideshow": {
     "slide_type": "slide"
    }
   },
   "source": [
    "# <u>Stock Overview for Hewlett Packard Enterprise (HPE)</u>\n",
    "**by Nicole Wambui**"
   ]
  },
  {
   "cell_type": "markdown",
   "id": "642b8c0f",
   "metadata": {
    "slideshow": {
     "slide_type": "slide"
    }
   },
   "source": [
    "## Table of Contents\n",
    "- <a href = \"#overview\">Overview</a>\n",
    "- <a href = \"#data-wrangling\">Data Wrangling</a>\n",
    "- <a href = \"#exploratory-data-analysis\">Exploratory Data Analysis</a>\n",
    "    - <a href = \"#q1\">Part 1</a>\n",
    "    - <a href = \"#q2\">Part 2</a>\n",
    "    - <a href = \"#q3\">Part 3</a>\n",
    "    - <a href = \"#q4\">Part 4</a>\n",
    "- <a href = \"#conclusion\">Conclusion</a>"
   ]
  },
  {
   "cell_type": "markdown",
   "id": "f4d96f9a",
   "metadata": {
    "slideshow": {
     "slide_type": "slide"
    }
   },
   "source": [
    "<a id='overview'></a>\n",
    "## Overview\n",
    "\n",
    "The purpose of this study is to get familiar with working with stock data while also getting a look at HPE's stock performance between 2016 and 2023. The dataset was obtained online, and includes daily stock prices from `10/1/2016` to `10/1/2023`. The data also includes each days' high, low, close, and adjusted close prices as well as the traded volume."
   ]
  },
  {
   "cell_type": "markdown",
   "id": "6ff334ff",
   "metadata": {
    "slideshow": {
     "slide_type": "slide"
    }
   },
   "source": [
    "<a id='data-wrangling'></a>\n",
    "## Data Wrangling"
   ]
  },
  {
   "cell_type": "code",
   "execution_count": 1,
   "id": "ef2e09e3",
   "metadata": {
    "slideshow": {
     "slide_type": "skip"
    }
   },
   "outputs": [
    {
     "data": {
      "text/html": [
       "<style type='text/css'>\n",
       "    table.dataframe td, table.datafram th {\n",
       "        border-style: solid;\n",
       "        border: 1px solid lightgrey;\n",
       "    }\n",
       "</style>\n"
      ],
      "text/plain": [
       "<IPython.core.display.HTML object>"
      ]
     },
     "metadata": {},
     "output_type": "display_data"
    }
   ],
   "source": [
    "%%HTML\n",
    "<style type='text/css'>\n",
    "    table.dataframe td, table.datafram th {\n",
    "        border-style: solid;\n",
    "        border: 1px solid lightgrey;\n",
    "    }\n",
    "</style>"
   ]
  },
  {
   "cell_type": "code",
   "execution_count": 78,
   "id": "01d13ec7",
   "metadata": {
    "slideshow": {
     "slide_type": "skip"
    }
   },
   "outputs": [],
   "source": [
    "import pandas as pd\n",
    "import numpy as np\n",
    "import matplotlib.pyplot as plt\n",
    "import seaborn as sns\n",
    "%matplotlib inline"
   ]
  },
  {
   "cell_type": "markdown",
   "id": "b1558e26",
   "metadata": {
    "slideshow": {
     "slide_type": "subslide"
    }
   },
   "source": [
    "The first step would be inspecting it for any data integrity issues"
   ]
  },
  {
   "cell_type": "code",
   "execution_count": 8,
   "id": "31005723",
   "metadata": {
    "scrolled": true,
    "slideshow": {
     "slide_type": "subslide"
    },
    "tags": [
     "hide-input"
    ]
   },
   "outputs": [
    {
     "data": {
      "text/html": [
       "<div>\n",
       "<style scoped>\n",
       "    .dataframe tbody tr th:only-of-type {\n",
       "        vertical-align: middle;\n",
       "    }\n",
       "\n",
       "    .dataframe tbody tr th {\n",
       "        vertical-align: top;\n",
       "    }\n",
       "\n",
       "    .dataframe thead th {\n",
       "        text-align: right;\n",
       "    }\n",
       "</style>\n",
       "<table border=\"1\" class=\"dataframe\">\n",
       "  <thead>\n",
       "    <tr style=\"text-align: right;\">\n",
       "      <th></th>\n",
       "      <th>Date</th>\n",
       "      <th>Open</th>\n",
       "      <th>High</th>\n",
       "      <th>Low</th>\n",
       "      <th>Close</th>\n",
       "      <th>Adj Close</th>\n",
       "      <th>Volume</th>\n",
       "    </tr>\n",
       "  </thead>\n",
       "  <tbody>\n",
       "    <tr>\n",
       "      <th>0</th>\n",
       "      <td>2016-01-11</td>\n",
       "      <td>7.805611</td>\n",
       "      <td>7.968349</td>\n",
       "      <td>7.596376</td>\n",
       "      <td>7.706806</td>\n",
       "      <td>6.360966</td>\n",
       "      <td>25998996</td>\n",
       "    </tr>\n",
       "    <tr>\n",
       "      <th>1</th>\n",
       "      <td>2016-01-12</td>\n",
       "      <td>7.759114</td>\n",
       "      <td>7.799799</td>\n",
       "      <td>7.608000</td>\n",
       "      <td>7.706806</td>\n",
       "      <td>6.360966</td>\n",
       "      <td>21435562</td>\n",
       "    </tr>\n",
       "    <tr>\n",
       "      <th>2</th>\n",
       "      <td>2016-01-13</td>\n",
       "      <td>7.759114</td>\n",
       "      <td>7.759114</td>\n",
       "      <td>7.282525</td>\n",
       "      <td>7.410390</td>\n",
       "      <td>6.116314</td>\n",
       "      <td>30489650</td>\n",
       "    </tr>\n",
       "    <tr>\n",
       "      <th>3</th>\n",
       "      <td>2016-01-14</td>\n",
       "      <td>7.410390</td>\n",
       "      <td>7.654497</td>\n",
       "      <td>7.352269</td>\n",
       "      <td>7.555692</td>\n",
       "      <td>6.236240</td>\n",
       "      <td>22973740</td>\n",
       "    </tr>\n",
       "    <tr>\n",
       "      <th>4</th>\n",
       "      <td>2016-01-15</td>\n",
       "      <td>7.323209</td>\n",
       "      <td>7.439450</td>\n",
       "      <td>7.259276</td>\n",
       "      <td>7.288337</td>\n",
       "      <td>6.015573</td>\n",
       "      <td>33945733</td>\n",
       "    </tr>\n",
       "    <tr>\n",
       "      <th>5</th>\n",
       "      <td>2016-01-19</td>\n",
       "      <td>7.369706</td>\n",
       "      <td>7.427826</td>\n",
       "      <td>7.090726</td>\n",
       "      <td>7.160471</td>\n",
       "      <td>5.910037</td>\n",
       "      <td>22239750</td>\n",
       "    </tr>\n",
       "    <tr>\n",
       "      <th>6</th>\n",
       "      <td>2016-01-20</td>\n",
       "      <td>6.974485</td>\n",
       "      <td>7.090726</td>\n",
       "      <td>6.756532</td>\n",
       "      <td>7.009357</td>\n",
       "      <td>5.785313</td>\n",
       "      <td>28630244</td>\n",
       "    </tr>\n",
       "    <tr>\n",
       "      <th>7</th>\n",
       "      <td>2016-01-21</td>\n",
       "      <td>6.974485</td>\n",
       "      <td>7.288337</td>\n",
       "      <td>6.869868</td>\n",
       "      <td>7.212780</td>\n",
       "      <td>5.953211</td>\n",
       "      <td>28784234</td>\n",
       "    </tr>\n",
       "    <tr>\n",
       "      <th>8</th>\n",
       "      <td>2016-01-22</td>\n",
       "      <td>7.381330</td>\n",
       "      <td>7.805611</td>\n",
       "      <td>7.352269</td>\n",
       "      <td>7.759114</td>\n",
       "      <td>6.404139</td>\n",
       "      <td>26272736</td>\n",
       "    </tr>\n",
       "    <tr>\n",
       "      <th>9</th>\n",
       "      <td>2016-01-25</td>\n",
       "      <td>7.724242</td>\n",
       "      <td>7.875356</td>\n",
       "      <td>7.625437</td>\n",
       "      <td>7.753302</td>\n",
       "      <td>6.399342</td>\n",
       "      <td>19241679</td>\n",
       "    </tr>\n",
       "  </tbody>\n",
       "</table>\n",
       "</div>"
      ],
      "text/plain": [
       "         Date      Open      High       Low     Close  Adj Close    Volume\n",
       "0  2016-01-11  7.805611  7.968349  7.596376  7.706806   6.360966  25998996\n",
       "1  2016-01-12  7.759114  7.799799  7.608000  7.706806   6.360966  21435562\n",
       "2  2016-01-13  7.759114  7.759114  7.282525  7.410390   6.116314  30489650\n",
       "3  2016-01-14  7.410390  7.654497  7.352269  7.555692   6.236240  22973740\n",
       "4  2016-01-15  7.323209  7.439450  7.259276  7.288337   6.015573  33945733\n",
       "5  2016-01-19  7.369706  7.427826  7.090726  7.160471   5.910037  22239750\n",
       "6  2016-01-20  6.974485  7.090726  6.756532  7.009357   5.785313  28630244\n",
       "7  2016-01-21  6.974485  7.288337  6.869868  7.212780   5.953211  28784234\n",
       "8  2016-01-22  7.381330  7.805611  7.352269  7.759114   6.404139  26272736\n",
       "9  2016-01-25  7.724242  7.875356  7.625437  7.753302   6.399342  19241679"
      ]
     },
     "execution_count": 8,
     "metadata": {},
     "output_type": "execute_result"
    }
   ],
   "source": [
    "df = pd.read_csv('HPE.csv')\n",
    "df.head(10)"
   ]
  },
  {
   "cell_type": "code",
   "execution_count": 9,
   "id": "bf268ef0",
   "metadata": {
    "slideshow": {
     "slide_type": "subslide"
    },
    "tags": [
     "hide-input"
    ]
   },
   "outputs": [
    {
     "data": {
      "text/html": [
       "<div>\n",
       "<style scoped>\n",
       "    .dataframe tbody tr th:only-of-type {\n",
       "        vertical-align: middle;\n",
       "    }\n",
       "\n",
       "    .dataframe tbody tr th {\n",
       "        vertical-align: top;\n",
       "    }\n",
       "\n",
       "    .dataframe thead th {\n",
       "        text-align: right;\n",
       "    }\n",
       "</style>\n",
       "<table border=\"1\" class=\"dataframe\">\n",
       "  <thead>\n",
       "    <tr style=\"text-align: right;\">\n",
       "      <th></th>\n",
       "      <th>Date</th>\n",
       "      <th>Open</th>\n",
       "      <th>High</th>\n",
       "      <th>Low</th>\n",
       "      <th>Close</th>\n",
       "      <th>Adj Close</th>\n",
       "      <th>Volume</th>\n",
       "    </tr>\n",
       "  </thead>\n",
       "  <tbody>\n",
       "    <tr>\n",
       "      <th>1752</th>\n",
       "      <td>2022-12-23</td>\n",
       "      <td>15.720000</td>\n",
       "      <td>15.775000</td>\n",
       "      <td>15.490000</td>\n",
       "      <td>15.750000</td>\n",
       "      <td>15.750000</td>\n",
       "      <td>8328800</td>\n",
       "    </tr>\n",
       "    <tr>\n",
       "      <th>1753</th>\n",
       "      <td>2022-12-27</td>\n",
       "      <td>15.810000</td>\n",
       "      <td>15.935000</td>\n",
       "      <td>15.745000</td>\n",
       "      <td>15.880000</td>\n",
       "      <td>15.880000</td>\n",
       "      <td>6066800</td>\n",
       "    </tr>\n",
       "    <tr>\n",
       "      <th>1754</th>\n",
       "      <td>2022-12-28</td>\n",
       "      <td>15.900000</td>\n",
       "      <td>15.940000</td>\n",
       "      <td>15.560000</td>\n",
       "      <td>15.570000</td>\n",
       "      <td>15.570000</td>\n",
       "      <td>6480100</td>\n",
       "    </tr>\n",
       "    <tr>\n",
       "      <th>1755</th>\n",
       "      <td>2022-12-29</td>\n",
       "      <td>15.670000</td>\n",
       "      <td>16.030001</td>\n",
       "      <td>15.670000</td>\n",
       "      <td>15.920000</td>\n",
       "      <td>15.920000</td>\n",
       "      <td>8469100</td>\n",
       "    </tr>\n",
       "    <tr>\n",
       "      <th>1756</th>\n",
       "      <td>2022-12-30</td>\n",
       "      <td>15.820000</td>\n",
       "      <td>15.960000</td>\n",
       "      <td>15.760000</td>\n",
       "      <td>15.960000</td>\n",
       "      <td>15.960000</td>\n",
       "      <td>9396400</td>\n",
       "    </tr>\n",
       "    <tr>\n",
       "      <th>1757</th>\n",
       "      <td>2023-01-03</td>\n",
       "      <td>16.090000</td>\n",
       "      <td>16.139999</td>\n",
       "      <td>15.830000</td>\n",
       "      <td>16.059999</td>\n",
       "      <td>16.059999</td>\n",
       "      <td>18233900</td>\n",
       "    </tr>\n",
       "    <tr>\n",
       "      <th>1758</th>\n",
       "      <td>2023-01-04</td>\n",
       "      <td>16.150000</td>\n",
       "      <td>16.525000</td>\n",
       "      <td>16.120001</td>\n",
       "      <td>16.420000</td>\n",
       "      <td>16.420000</td>\n",
       "      <td>15865500</td>\n",
       "    </tr>\n",
       "    <tr>\n",
       "      <th>1759</th>\n",
       "      <td>2023-01-05</td>\n",
       "      <td>16.290001</td>\n",
       "      <td>16.495001</td>\n",
       "      <td>16.184999</td>\n",
       "      <td>16.450001</td>\n",
       "      <td>16.450001</td>\n",
       "      <td>13099500</td>\n",
       "    </tr>\n",
       "    <tr>\n",
       "      <th>1760</th>\n",
       "      <td>2023-01-06</td>\n",
       "      <td>16.680000</td>\n",
       "      <td>17.209999</td>\n",
       "      <td>16.670000</td>\n",
       "      <td>17.110001</td>\n",
       "      <td>17.110001</td>\n",
       "      <td>15242100</td>\n",
       "    </tr>\n",
       "    <tr>\n",
       "      <th>1761</th>\n",
       "      <td>2023-01-09</td>\n",
       "      <td>17.100000</td>\n",
       "      <td>17.250000</td>\n",
       "      <td>16.889999</td>\n",
       "      <td>16.959999</td>\n",
       "      <td>16.959999</td>\n",
       "      <td>19294700</td>\n",
       "    </tr>\n",
       "  </tbody>\n",
       "</table>\n",
       "</div>"
      ],
      "text/plain": [
       "            Date       Open       High        Low      Close  Adj Close  \\\n",
       "1752  2022-12-23  15.720000  15.775000  15.490000  15.750000  15.750000   \n",
       "1753  2022-12-27  15.810000  15.935000  15.745000  15.880000  15.880000   \n",
       "1754  2022-12-28  15.900000  15.940000  15.560000  15.570000  15.570000   \n",
       "1755  2022-12-29  15.670000  16.030001  15.670000  15.920000  15.920000   \n",
       "1756  2022-12-30  15.820000  15.960000  15.760000  15.960000  15.960000   \n",
       "1757  2023-01-03  16.090000  16.139999  15.830000  16.059999  16.059999   \n",
       "1758  2023-01-04  16.150000  16.525000  16.120001  16.420000  16.420000   \n",
       "1759  2023-01-05  16.290001  16.495001  16.184999  16.450001  16.450001   \n",
       "1760  2023-01-06  16.680000  17.209999  16.670000  17.110001  17.110001   \n",
       "1761  2023-01-09  17.100000  17.250000  16.889999  16.959999  16.959999   \n",
       "\n",
       "        Volume  \n",
       "1752   8328800  \n",
       "1753   6066800  \n",
       "1754   6480100  \n",
       "1755   8469100  \n",
       "1756   9396400  \n",
       "1757  18233900  \n",
       "1758  15865500  \n",
       "1759  13099500  \n",
       "1760  15242100  \n",
       "1761  19294700  "
      ]
     },
     "execution_count": 9,
     "metadata": {},
     "output_type": "execute_result"
    }
   ],
   "source": [
    "df.tail(10)"
   ]
  },
  {
   "cell_type": "code",
   "execution_count": 4,
   "id": "f93cd44a",
   "metadata": {
    "slideshow": {
     "slide_type": "subslide"
    },
    "tags": [
     "hide-input"
    ]
   },
   "outputs": [
    {
     "name": "stdout",
     "output_type": "stream",
     "text": [
      "<class 'pandas.core.frame.DataFrame'>\n",
      "RangeIndex: 1762 entries, 0 to 1761\n",
      "Data columns (total 7 columns):\n",
      " #   Column     Non-Null Count  Dtype  \n",
      "---  ------     --------------  -----  \n",
      " 0   Date       1762 non-null   object \n",
      " 1   Open       1762 non-null   float64\n",
      " 2   High       1762 non-null   float64\n",
      " 3   Low        1762 non-null   float64\n",
      " 4   Close      1762 non-null   float64\n",
      " 5   Adj Close  1762 non-null   float64\n",
      " 6   Volume     1762 non-null   int64  \n",
      "dtypes: float64(5), int64(1), object(1)\n",
      "memory usage: 96.5+ KB\n"
     ]
    }
   ],
   "source": [
    "df.info()"
   ]
  },
  {
   "cell_type": "code",
   "execution_count": 5,
   "id": "6ddcb4ed",
   "metadata": {
    "slideshow": {
     "slide_type": "subslide"
    },
    "tags": [
     "hide-input"
    ]
   },
   "outputs": [
    {
     "data": {
      "text/html": [
       "<div>\n",
       "<style scoped>\n",
       "    .dataframe tbody tr th:only-of-type {\n",
       "        vertical-align: middle;\n",
       "    }\n",
       "\n",
       "    .dataframe tbody tr th {\n",
       "        vertical-align: top;\n",
       "    }\n",
       "\n",
       "    .dataframe thead th {\n",
       "        text-align: right;\n",
       "    }\n",
       "</style>\n",
       "<table border=\"1\" class=\"dataframe\">\n",
       "  <thead>\n",
       "    <tr style=\"text-align: right;\">\n",
       "      <th></th>\n",
       "      <th>Open</th>\n",
       "      <th>High</th>\n",
       "      <th>Low</th>\n",
       "      <th>Close</th>\n",
       "      <th>Adj Close</th>\n",
       "      <th>Volume</th>\n",
       "    </tr>\n",
       "  </thead>\n",
       "  <tbody>\n",
       "    <tr>\n",
       "      <th>count</th>\n",
       "      <td>1762.000000</td>\n",
       "      <td>1762.000000</td>\n",
       "      <td>1762.000000</td>\n",
       "      <td>1762.000000</td>\n",
       "      <td>1762.000000</td>\n",
       "      <td>1.762000e+03</td>\n",
       "    </tr>\n",
       "    <tr>\n",
       "      <th>mean</th>\n",
       "      <td>13.837125</td>\n",
       "      <td>14.018427</td>\n",
       "      <td>13.668701</td>\n",
       "      <td>13.846771</td>\n",
       "      <td>12.412324</td>\n",
       "      <td>1.269587e+07</td>\n",
       "    </tr>\n",
       "    <tr>\n",
       "      <th>std</th>\n",
       "      <td>2.429166</td>\n",
       "      <td>2.429227</td>\n",
       "      <td>2.425823</td>\n",
       "      <td>2.424329</td>\n",
       "      <td>2.398943</td>\n",
       "      <td>6.791496e+06</td>\n",
       "    </tr>\n",
       "    <tr>\n",
       "      <th>min</th>\n",
       "      <td>6.974485</td>\n",
       "      <td>7.090726</td>\n",
       "      <td>6.756532</td>\n",
       "      <td>7.009357</td>\n",
       "      <td>5.785313</td>\n",
       "      <td>2.022600e+06</td>\n",
       "    </tr>\n",
       "    <tr>\n",
       "      <th>25%</th>\n",
       "      <td>12.794275</td>\n",
       "      <td>12.970636</td>\n",
       "      <td>12.631360</td>\n",
       "      <td>12.798635</td>\n",
       "      <td>11.021994</td>\n",
       "      <td>8.326175e+06</td>\n",
       "    </tr>\n",
       "    <tr>\n",
       "      <th>50%</th>\n",
       "      <td>14.340000</td>\n",
       "      <td>14.508685</td>\n",
       "      <td>14.185000</td>\n",
       "      <td>14.350000</td>\n",
       "      <td>12.832023</td>\n",
       "      <td>1.105905e+07</td>\n",
       "    </tr>\n",
       "    <tr>\n",
       "      <th>75%</th>\n",
       "      <td>15.630000</td>\n",
       "      <td>15.820000</td>\n",
       "      <td>15.468750</td>\n",
       "      <td>15.660000</td>\n",
       "      <td>14.173926</td>\n",
       "      <td>1.501145e+07</td>\n",
       "    </tr>\n",
       "    <tr>\n",
       "      <th>max</th>\n",
       "      <td>19.240000</td>\n",
       "      <td>19.475000</td>\n",
       "      <td>19.000000</td>\n",
       "      <td>19.410000</td>\n",
       "      <td>17.133421</td>\n",
       "      <td>8.066282e+07</td>\n",
       "    </tr>\n",
       "  </tbody>\n",
       "</table>\n",
       "</div>"
      ],
      "text/plain": [
       "              Open         High          Low        Close    Adj Close  \\\n",
       "count  1762.000000  1762.000000  1762.000000  1762.000000  1762.000000   \n",
       "mean     13.837125    14.018427    13.668701    13.846771    12.412324   \n",
       "std       2.429166     2.429227     2.425823     2.424329     2.398943   \n",
       "min       6.974485     7.090726     6.756532     7.009357     5.785313   \n",
       "25%      12.794275    12.970636    12.631360    12.798635    11.021994   \n",
       "50%      14.340000    14.508685    14.185000    14.350000    12.832023   \n",
       "75%      15.630000    15.820000    15.468750    15.660000    14.173926   \n",
       "max      19.240000    19.475000    19.000000    19.410000    17.133421   \n",
       "\n",
       "             Volume  \n",
       "count  1.762000e+03  \n",
       "mean   1.269587e+07  \n",
       "std    6.791496e+06  \n",
       "min    2.022600e+06  \n",
       "25%    8.326175e+06  \n",
       "50%    1.105905e+07  \n",
       "75%    1.501145e+07  \n",
       "max    8.066282e+07  "
      ]
     },
     "execution_count": 5,
     "metadata": {},
     "output_type": "execute_result"
    }
   ],
   "source": [
    "df.describe()"
   ]
  },
  {
   "cell_type": "markdown",
   "id": "942b95de",
   "metadata": {
    "slideshow": {
     "slide_type": "slide"
    }
   },
   "source": [
    "**Defined data issues:**\n",
    "\n",
    "1. `Date` column is `object` dtype.\n",
    "\n",
    "2. `Date` column is concatenated.\n",
    "\n",
    "3. The dataset has data from 2023."
   ]
  },
  {
   "cell_type": "markdown",
   "id": "83b342e5",
   "metadata": {
    "slideshow": {
     "slide_type": "subslide"
    }
   },
   "source": [
    "**Coding and Testing data issues:**\n",
    "\n",
    "1. Convert `Date`column dtype to `datetime`.\n",
    "\n",
    "2. Create columns for `year`, `month` and `year-month` for easier calculations.\n",
    "\n",
    "3. Remove 2023 data because it has only been a few days into the year and will skew the results"
   ]
  },
  {
   "cell_type": "code",
   "execution_count": 10,
   "id": "5b8591d2",
   "metadata": {
    "slideshow": {
     "slide_type": "subslide"
    },
    "tags": [
     "hide-input"
    ]
   },
   "outputs": [
    {
     "name": "stdout",
     "output_type": "stream",
     "text": [
      "<class 'pandas.core.frame.DataFrame'>\n",
      "RangeIndex: 1762 entries, 0 to 1761\n",
      "Data columns (total 7 columns):\n",
      " #   Column     Non-Null Count  Dtype         \n",
      "---  ------     --------------  -----         \n",
      " 0   Date       1762 non-null   datetime64[ns]\n",
      " 1   Open       1762 non-null   float64       \n",
      " 2   High       1762 non-null   float64       \n",
      " 3   Low        1762 non-null   float64       \n",
      " 4   Close      1762 non-null   float64       \n",
      " 5   Adj Close  1762 non-null   float64       \n",
      " 6   Volume     1762 non-null   int64         \n",
      "dtypes: datetime64[ns](1), float64(5), int64(1)\n",
      "memory usage: 96.5 KB\n"
     ]
    }
   ],
   "source": [
    "df_1 = df\n",
    "df_1['Date'] = pd.to_datetime(df_1['Date'], format = '%Y-%m-%d')\n",
    "df_1.info()"
   ]
  },
  {
   "cell_type": "code",
   "execution_count": 11,
   "id": "b057cc86",
   "metadata": {
    "slideshow": {
     "slide_type": "subslide"
    },
    "tags": [
     "hide-input"
    ]
   },
   "outputs": [
    {
     "name": "stdout",
     "output_type": "stream",
     "text": [
      "<class 'pandas.core.frame.DataFrame'>\n",
      "RangeIndex: 1762 entries, 0 to 1761\n",
      "Data columns (total 10 columns):\n",
      " #   Column      Non-Null Count  Dtype         \n",
      "---  ------      --------------  -----         \n",
      " 0   Date        1762 non-null   datetime64[ns]\n",
      " 1   Open        1762 non-null   float64       \n",
      " 2   High        1762 non-null   float64       \n",
      " 3   Low         1762 non-null   float64       \n",
      " 4   Close       1762 non-null   float64       \n",
      " 5   Adj Close   1762 non-null   float64       \n",
      " 6   Volume      1762 non-null   int64         \n",
      " 7   Year        1762 non-null   int64         \n",
      " 8   Month       1762 non-null   int64         \n",
      " 9   Year_Month  1762 non-null   period[M]     \n",
      "dtypes: datetime64[ns](1), float64(5), int64(3), period[M](1)\n",
      "memory usage: 137.8 KB\n"
     ]
    },
    {
     "data": {
      "text/html": [
       "<div>\n",
       "<style scoped>\n",
       "    .dataframe tbody tr th:only-of-type {\n",
       "        vertical-align: middle;\n",
       "    }\n",
       "\n",
       "    .dataframe tbody tr th {\n",
       "        vertical-align: top;\n",
       "    }\n",
       "\n",
       "    .dataframe thead th {\n",
       "        text-align: right;\n",
       "    }\n",
       "</style>\n",
       "<table border=\"1\" class=\"dataframe\">\n",
       "  <thead>\n",
       "    <tr style=\"text-align: right;\">\n",
       "      <th></th>\n",
       "      <th>Date</th>\n",
       "      <th>Open</th>\n",
       "      <th>High</th>\n",
       "      <th>Low</th>\n",
       "      <th>Close</th>\n",
       "      <th>Adj Close</th>\n",
       "      <th>Volume</th>\n",
       "      <th>Year</th>\n",
       "      <th>Month</th>\n",
       "      <th>Year_Month</th>\n",
       "    </tr>\n",
       "  </thead>\n",
       "  <tbody>\n",
       "    <tr>\n",
       "      <th>0</th>\n",
       "      <td>2016-01-11</td>\n",
       "      <td>7.805611</td>\n",
       "      <td>7.968349</td>\n",
       "      <td>7.596376</td>\n",
       "      <td>7.706806</td>\n",
       "      <td>6.360966</td>\n",
       "      <td>25998996</td>\n",
       "      <td>2016</td>\n",
       "      <td>1</td>\n",
       "      <td>2016-01</td>\n",
       "    </tr>\n",
       "    <tr>\n",
       "      <th>1</th>\n",
       "      <td>2016-01-12</td>\n",
       "      <td>7.759114</td>\n",
       "      <td>7.799799</td>\n",
       "      <td>7.608000</td>\n",
       "      <td>7.706806</td>\n",
       "      <td>6.360966</td>\n",
       "      <td>21435562</td>\n",
       "      <td>2016</td>\n",
       "      <td>1</td>\n",
       "      <td>2016-01</td>\n",
       "    </tr>\n",
       "    <tr>\n",
       "      <th>2</th>\n",
       "      <td>2016-01-13</td>\n",
       "      <td>7.759114</td>\n",
       "      <td>7.759114</td>\n",
       "      <td>7.282525</td>\n",
       "      <td>7.410390</td>\n",
       "      <td>6.116314</td>\n",
       "      <td>30489650</td>\n",
       "      <td>2016</td>\n",
       "      <td>1</td>\n",
       "      <td>2016-01</td>\n",
       "    </tr>\n",
       "    <tr>\n",
       "      <th>3</th>\n",
       "      <td>2016-01-14</td>\n",
       "      <td>7.410390</td>\n",
       "      <td>7.654497</td>\n",
       "      <td>7.352269</td>\n",
       "      <td>7.555692</td>\n",
       "      <td>6.236240</td>\n",
       "      <td>22973740</td>\n",
       "      <td>2016</td>\n",
       "      <td>1</td>\n",
       "      <td>2016-01</td>\n",
       "    </tr>\n",
       "    <tr>\n",
       "      <th>4</th>\n",
       "      <td>2016-01-15</td>\n",
       "      <td>7.323209</td>\n",
       "      <td>7.439450</td>\n",
       "      <td>7.259276</td>\n",
       "      <td>7.288337</td>\n",
       "      <td>6.015573</td>\n",
       "      <td>33945733</td>\n",
       "      <td>2016</td>\n",
       "      <td>1</td>\n",
       "      <td>2016-01</td>\n",
       "    </tr>\n",
       "    <tr>\n",
       "      <th>5</th>\n",
       "      <td>2016-01-19</td>\n",
       "      <td>7.369706</td>\n",
       "      <td>7.427826</td>\n",
       "      <td>7.090726</td>\n",
       "      <td>7.160471</td>\n",
       "      <td>5.910037</td>\n",
       "      <td>22239750</td>\n",
       "      <td>2016</td>\n",
       "      <td>1</td>\n",
       "      <td>2016-01</td>\n",
       "    </tr>\n",
       "    <tr>\n",
       "      <th>6</th>\n",
       "      <td>2016-01-20</td>\n",
       "      <td>6.974485</td>\n",
       "      <td>7.090726</td>\n",
       "      <td>6.756532</td>\n",
       "      <td>7.009357</td>\n",
       "      <td>5.785313</td>\n",
       "      <td>28630244</td>\n",
       "      <td>2016</td>\n",
       "      <td>1</td>\n",
       "      <td>2016-01</td>\n",
       "    </tr>\n",
       "    <tr>\n",
       "      <th>7</th>\n",
       "      <td>2016-01-21</td>\n",
       "      <td>6.974485</td>\n",
       "      <td>7.288337</td>\n",
       "      <td>6.869868</td>\n",
       "      <td>7.212780</td>\n",
       "      <td>5.953211</td>\n",
       "      <td>28784234</td>\n",
       "      <td>2016</td>\n",
       "      <td>1</td>\n",
       "      <td>2016-01</td>\n",
       "    </tr>\n",
       "    <tr>\n",
       "      <th>8</th>\n",
       "      <td>2016-01-22</td>\n",
       "      <td>7.381330</td>\n",
       "      <td>7.805611</td>\n",
       "      <td>7.352269</td>\n",
       "      <td>7.759114</td>\n",
       "      <td>6.404139</td>\n",
       "      <td>26272736</td>\n",
       "      <td>2016</td>\n",
       "      <td>1</td>\n",
       "      <td>2016-01</td>\n",
       "    </tr>\n",
       "    <tr>\n",
       "      <th>9</th>\n",
       "      <td>2016-01-25</td>\n",
       "      <td>7.724242</td>\n",
       "      <td>7.875356</td>\n",
       "      <td>7.625437</td>\n",
       "      <td>7.753302</td>\n",
       "      <td>6.399342</td>\n",
       "      <td>19241679</td>\n",
       "      <td>2016</td>\n",
       "      <td>1</td>\n",
       "      <td>2016-01</td>\n",
       "    </tr>\n",
       "  </tbody>\n",
       "</table>\n",
       "</div>"
      ],
      "text/plain": [
       "        Date      Open      High       Low     Close  Adj Close    Volume  \\\n",
       "0 2016-01-11  7.805611  7.968349  7.596376  7.706806   6.360966  25998996   \n",
       "1 2016-01-12  7.759114  7.799799  7.608000  7.706806   6.360966  21435562   \n",
       "2 2016-01-13  7.759114  7.759114  7.282525  7.410390   6.116314  30489650   \n",
       "3 2016-01-14  7.410390  7.654497  7.352269  7.555692   6.236240  22973740   \n",
       "4 2016-01-15  7.323209  7.439450  7.259276  7.288337   6.015573  33945733   \n",
       "5 2016-01-19  7.369706  7.427826  7.090726  7.160471   5.910037  22239750   \n",
       "6 2016-01-20  6.974485  7.090726  6.756532  7.009357   5.785313  28630244   \n",
       "7 2016-01-21  6.974485  7.288337  6.869868  7.212780   5.953211  28784234   \n",
       "8 2016-01-22  7.381330  7.805611  7.352269  7.759114   6.404139  26272736   \n",
       "9 2016-01-25  7.724242  7.875356  7.625437  7.753302   6.399342  19241679   \n",
       "\n",
       "   Year  Month Year_Month  \n",
       "0  2016      1    2016-01  \n",
       "1  2016      1    2016-01  \n",
       "2  2016      1    2016-01  \n",
       "3  2016      1    2016-01  \n",
       "4  2016      1    2016-01  \n",
       "5  2016      1    2016-01  \n",
       "6  2016      1    2016-01  \n",
       "7  2016      1    2016-01  \n",
       "8  2016      1    2016-01  \n",
       "9  2016      1    2016-01  "
      ]
     },
     "execution_count": 11,
     "metadata": {},
     "output_type": "execute_result"
    }
   ],
   "source": [
    "df_1['Year'] = df_1['Date'].dt.year\n",
    "df_1['Month'] = df_1['Date'].dt.month\n",
    "df_1['Year_Month'] = df_1['Date'].dt.to_period('m')\n",
    "df_1.info()\n",
    "df_1.head(10)"
   ]
  },
  {
   "cell_type": "code",
   "execution_count": 13,
   "id": "971f2a1b",
   "metadata": {
    "slideshow": {
     "slide_type": "subslide"
    },
    "tags": [
     "hide-input"
    ]
   },
   "outputs": [
    {
     "name": "stdout",
     "output_type": "stream",
     "text": [
      "<class 'pandas.core.frame.DataFrame'>\n",
      "Int64Index: 1757 entries, 0 to 1756\n",
      "Data columns (total 10 columns):\n",
      " #   Column      Non-Null Count  Dtype         \n",
      "---  ------      --------------  -----         \n",
      " 0   Date        1757 non-null   datetime64[ns]\n",
      " 1   Open        1757 non-null   float64       \n",
      " 2   High        1757 non-null   float64       \n",
      " 3   Low         1757 non-null   float64       \n",
      " 4   Close       1757 non-null   float64       \n",
      " 5   Adj Close   1757 non-null   float64       \n",
      " 6   Volume      1757 non-null   int64         \n",
      " 7   Year        1757 non-null   int64         \n",
      " 8   Month       1757 non-null   int64         \n",
      " 9   Year_Month  1757 non-null   period[M]     \n",
      "dtypes: datetime64[ns](1), float64(5), int64(3), period[M](1)\n",
      "memory usage: 151.0 KB\n"
     ]
    },
    {
     "data": {
      "text/html": [
       "<div>\n",
       "<style scoped>\n",
       "    .dataframe tbody tr th:only-of-type {\n",
       "        vertical-align: middle;\n",
       "    }\n",
       "\n",
       "    .dataframe tbody tr th {\n",
       "        vertical-align: top;\n",
       "    }\n",
       "\n",
       "    .dataframe thead th {\n",
       "        text-align: right;\n",
       "    }\n",
       "</style>\n",
       "<table border=\"1\" class=\"dataframe\">\n",
       "  <thead>\n",
       "    <tr style=\"text-align: right;\">\n",
       "      <th></th>\n",
       "      <th>Date</th>\n",
       "      <th>Open</th>\n",
       "      <th>High</th>\n",
       "      <th>Low</th>\n",
       "      <th>Close</th>\n",
       "      <th>Adj Close</th>\n",
       "      <th>Volume</th>\n",
       "      <th>Year</th>\n",
       "      <th>Month</th>\n",
       "      <th>Year_Month</th>\n",
       "    </tr>\n",
       "  </thead>\n",
       "  <tbody>\n",
       "    <tr>\n",
       "      <th>1747</th>\n",
       "      <td>2022-12-16</td>\n",
       "      <td>15.545</td>\n",
       "      <td>15.740000</td>\n",
       "      <td>15.435</td>\n",
       "      <td>15.64</td>\n",
       "      <td>15.64</td>\n",
       "      <td>31670500</td>\n",
       "      <td>2022</td>\n",
       "      <td>12</td>\n",
       "      <td>2022-12</td>\n",
       "    </tr>\n",
       "    <tr>\n",
       "      <th>1748</th>\n",
       "      <td>2022-12-19</td>\n",
       "      <td>15.700</td>\n",
       "      <td>15.770000</td>\n",
       "      <td>15.375</td>\n",
       "      <td>15.48</td>\n",
       "      <td>15.48</td>\n",
       "      <td>9138500</td>\n",
       "      <td>2022</td>\n",
       "      <td>12</td>\n",
       "      <td>2022-12</td>\n",
       "    </tr>\n",
       "    <tr>\n",
       "      <th>1749</th>\n",
       "      <td>2022-12-20</td>\n",
       "      <td>15.510</td>\n",
       "      <td>15.680000</td>\n",
       "      <td>15.470</td>\n",
       "      <td>15.66</td>\n",
       "      <td>15.66</td>\n",
       "      <td>13188200</td>\n",
       "      <td>2022</td>\n",
       "      <td>12</td>\n",
       "      <td>2022-12</td>\n",
       "    </tr>\n",
       "    <tr>\n",
       "      <th>1750</th>\n",
       "      <td>2022-12-21</td>\n",
       "      <td>15.770</td>\n",
       "      <td>15.955000</td>\n",
       "      <td>15.740</td>\n",
       "      <td>15.78</td>\n",
       "      <td>15.78</td>\n",
       "      <td>14255200</td>\n",
       "      <td>2022</td>\n",
       "      <td>12</td>\n",
       "      <td>2022-12</td>\n",
       "    </tr>\n",
       "    <tr>\n",
       "      <th>1751</th>\n",
       "      <td>2022-12-22</td>\n",
       "      <td>15.650</td>\n",
       "      <td>15.720000</td>\n",
       "      <td>15.440</td>\n",
       "      <td>15.71</td>\n",
       "      <td>15.71</td>\n",
       "      <td>13616800</td>\n",
       "      <td>2022</td>\n",
       "      <td>12</td>\n",
       "      <td>2022-12</td>\n",
       "    </tr>\n",
       "    <tr>\n",
       "      <th>1752</th>\n",
       "      <td>2022-12-23</td>\n",
       "      <td>15.720</td>\n",
       "      <td>15.775000</td>\n",
       "      <td>15.490</td>\n",
       "      <td>15.75</td>\n",
       "      <td>15.75</td>\n",
       "      <td>8328800</td>\n",
       "      <td>2022</td>\n",
       "      <td>12</td>\n",
       "      <td>2022-12</td>\n",
       "    </tr>\n",
       "    <tr>\n",
       "      <th>1753</th>\n",
       "      <td>2022-12-27</td>\n",
       "      <td>15.810</td>\n",
       "      <td>15.935000</td>\n",
       "      <td>15.745</td>\n",
       "      <td>15.88</td>\n",
       "      <td>15.88</td>\n",
       "      <td>6066800</td>\n",
       "      <td>2022</td>\n",
       "      <td>12</td>\n",
       "      <td>2022-12</td>\n",
       "    </tr>\n",
       "    <tr>\n",
       "      <th>1754</th>\n",
       "      <td>2022-12-28</td>\n",
       "      <td>15.900</td>\n",
       "      <td>15.940000</td>\n",
       "      <td>15.560</td>\n",
       "      <td>15.57</td>\n",
       "      <td>15.57</td>\n",
       "      <td>6480100</td>\n",
       "      <td>2022</td>\n",
       "      <td>12</td>\n",
       "      <td>2022-12</td>\n",
       "    </tr>\n",
       "    <tr>\n",
       "      <th>1755</th>\n",
       "      <td>2022-12-29</td>\n",
       "      <td>15.670</td>\n",
       "      <td>16.030001</td>\n",
       "      <td>15.670</td>\n",
       "      <td>15.92</td>\n",
       "      <td>15.92</td>\n",
       "      <td>8469100</td>\n",
       "      <td>2022</td>\n",
       "      <td>12</td>\n",
       "      <td>2022-12</td>\n",
       "    </tr>\n",
       "    <tr>\n",
       "      <th>1756</th>\n",
       "      <td>2022-12-30</td>\n",
       "      <td>15.820</td>\n",
       "      <td>15.960000</td>\n",
       "      <td>15.760</td>\n",
       "      <td>15.96</td>\n",
       "      <td>15.96</td>\n",
       "      <td>9396400</td>\n",
       "      <td>2022</td>\n",
       "      <td>12</td>\n",
       "      <td>2022-12</td>\n",
       "    </tr>\n",
       "  </tbody>\n",
       "</table>\n",
       "</div>"
      ],
      "text/plain": [
       "           Date    Open       High     Low  Close  Adj Close    Volume  Year  \\\n",
       "1747 2022-12-16  15.545  15.740000  15.435  15.64      15.64  31670500  2022   \n",
       "1748 2022-12-19  15.700  15.770000  15.375  15.48      15.48   9138500  2022   \n",
       "1749 2022-12-20  15.510  15.680000  15.470  15.66      15.66  13188200  2022   \n",
       "1750 2022-12-21  15.770  15.955000  15.740  15.78      15.78  14255200  2022   \n",
       "1751 2022-12-22  15.650  15.720000  15.440  15.71      15.71  13616800  2022   \n",
       "1752 2022-12-23  15.720  15.775000  15.490  15.75      15.75   8328800  2022   \n",
       "1753 2022-12-27  15.810  15.935000  15.745  15.88      15.88   6066800  2022   \n",
       "1754 2022-12-28  15.900  15.940000  15.560  15.57      15.57   6480100  2022   \n",
       "1755 2022-12-29  15.670  16.030001  15.670  15.92      15.92   8469100  2022   \n",
       "1756 2022-12-30  15.820  15.960000  15.760  15.96      15.96   9396400  2022   \n",
       "\n",
       "      Month Year_Month  \n",
       "1747     12    2022-12  \n",
       "1748     12    2022-12  \n",
       "1749     12    2022-12  \n",
       "1750     12    2022-12  \n",
       "1751     12    2022-12  \n",
       "1752     12    2022-12  \n",
       "1753     12    2022-12  \n",
       "1754     12    2022-12  \n",
       "1755     12    2022-12  \n",
       "1756     12    2022-12  "
      ]
     },
     "execution_count": 13,
     "metadata": {},
     "output_type": "execute_result"
    }
   ],
   "source": [
    "df_1 = df_1.query('Year < 2023')\n",
    "df_1.info()\n",
    "df_1.tail(10)"
   ]
  },
  {
   "cell_type": "code",
   "execution_count": 16,
   "id": "5dea326e",
   "metadata": {
    "slideshow": {
     "slide_type": "skip"
    }
   },
   "outputs": [],
   "source": [
    "df_1.to_csv('HPE_1.csv')"
   ]
  },
  {
   "cell_type": "code",
   "execution_count": 3,
   "id": "eac3b947",
   "metadata": {
    "slideshow": {
     "slide_type": "skip"
    }
   },
   "outputs": [],
   "source": [
    "df_1 = pd.read_csv(\"HPE_1.csv\")\n",
    "df_new = df_1.copy()"
   ]
  },
  {
   "cell_type": "markdown",
   "id": "f43e6cc0",
   "metadata": {
    "slideshow": {
     "slide_type": "slide"
    }
   },
   "source": [
    "<a id='exploratory-data-analysis'></a>\n",
    "## Exploratory Data Analysis\n",
    "\n",
    "A few questions I'm interested in figuring out are the years with the highest stock price, lowest stock price, as well as looking at the different quarterly performances. "
   ]
  },
  {
   "cell_type": "markdown",
   "id": "ddb5c3f5",
   "metadata": {
    "slideshow": {
     "slide_type": "slide"
    }
   },
   "source": [
    "<a id='q1'></a>\n",
    "**1. Which years had the largest peaks and dips in stock prices?**"
   ]
  },
  {
   "cell_type": "code",
   "execution_count": 44,
   "id": "a902cbcf",
   "metadata": {
    "slideshow": {
     "slide_type": "subslide"
    },
    "tags": [
     "hide-input"
    ]
   },
   "outputs": [
    {
     "name": "stdout",
     "output_type": "stream",
     "text": [
      "Year\n",
      "2016    11.278135\n",
      "2017    13.926855\n",
      "2018    16.345980\n",
      "2019    15.351948\n",
      "2020    10.922621\n",
      "2021    14.978671\n",
      "2022    15.242741\n",
      "Name: High, dtype: float64\n",
      "Year\n",
      "2016    10.984797\n",
      "2017    13.663665\n",
      "2018    15.948183\n",
      "2019    15.025155\n",
      "2020    10.528715\n",
      "2021    14.614270\n",
      "2022    14.836004\n",
      "Name: Low, dtype: float64\n"
     ]
    }
   ],
   "source": [
    "highest_stock_price = df_new.groupby('Year')['High'].mean()\n",
    "print(highest_stock_price)\n",
    "lowest_stock_price = df_new.groupby('Year')['Low'].mean()\n",
    "print(lowest_stock_price)"
   ]
  },
  {
   "cell_type": "code",
   "execution_count": 5,
   "id": "37d019cd",
   "metadata": {
    "scrolled": true,
    "slideshow": {
     "slide_type": "subslide"
    },
    "tags": [
     "hide-input"
    ]
   },
   "outputs": [
    {
     "data": {
      "image/png": "[encoded data removed]",
      "text/plain": [
       "<Figure size 1500x500 with 2 Axes>"
      ]
     },
     "metadata": {},
     "output_type": "display_data"
    }
   ],
   "source": [
    "plt.figure(figsize = [15, 5])\n",
    "\n",
    "plt.subplot(1,2,1)\n",
    "colour = sns.color_palette(palette = None, as_cmap = True)[0]\n",
    "sns.barplot(data = df_new, x = 'Year', y = 'High', color = colour, ci = None);\n",
    "plt.ylabel('Stock Price')\n",
    "plt.title('HPE Stock Price Peaks (2016-2022)');\n",
    "\n",
    "plt.subplot(1,2,2)\n",
    "sns.barplot(data = df_new, x = 'Year', y = 'Low', color = colour, ci = None);\n",
    "plt.ylabel('Stock Price')\n",
    "plt.title('HPE Stock Price Dips (2016-2022)');\n"
   ]
  },
  {
   "cell_type": "markdown",
   "id": "2883b55d",
   "metadata": {
    "slideshow": {
     "slide_type": "subslide"
    }
   },
   "source": [
    "> ***Observations:***\n",
    ">\n",
    "> - The largest stock price peaks were in 2018 with an average high of `$16.345980/share`.\n",
    ">\n",
    "> - The largest stock price dips were in 2020 with an average low of `$10.528715/share`."
   ]
  },
  {
   "cell_type": "markdown",
   "id": "887733a4",
   "metadata": {
    "slideshow": {
     "slide_type": "slide"
    }
   },
   "source": [
    "<a id='q2'></a>\n",
    "**2. What were the average daily returns for each year?**\n",
    "\n",
    "<u>Note</u>: <br>\n",
    "This will be calculated using the adjusted close values."
   ]
  },
  {
   "cell_type": "markdown",
   "id": "5cdccbf1",
   "metadata": {
    "slideshow": {
     "slide_type": "subslide"
    }
   },
   "source": [
    "- The first step is creating a new column that will be populated by values representing each days return based on the open and close stock price."
   ]
  },
  {
   "cell_type": "code",
   "execution_count": 6,
   "id": "67fe6cc2",
   "metadata": {
    "slideshow": {
     "slide_type": "subslide"
    },
    "tags": [
     "hide-input"
    ]
   },
   "outputs": [
    {
     "name": "stdout",
     "output_type": "stream",
     "text": [
      "<class 'pandas.core.frame.DataFrame'>\n",
      "RangeIndex: 1757 entries, 0 to 1756\n",
      "Data columns (total 12 columns):\n",
      " #   Column         Non-Null Count  Dtype  \n",
      "---  ------         --------------  -----  \n",
      " 0   Unnamed: 0     1757 non-null   int64  \n",
      " 1   Date           1757 non-null   object \n",
      " 2   Open           1757 non-null   float64\n",
      " 3   High           1757 non-null   float64\n",
      " 4   Low            1757 non-null   float64\n",
      " 5   Close          1757 non-null   float64\n",
      " 6   Adj Close      1757 non-null   float64\n",
      " 7   Volume         1757 non-null   int64  \n",
      " 8   Year           1757 non-null   int64  \n",
      " 9   Month          1757 non-null   int64  \n",
      " 10  Year_Month     1757 non-null   object \n",
      " 11  Daily_Returns  1756 non-null   float64\n",
      "dtypes: float64(6), int64(4), object(2)\n",
      "memory usage: 164.8+ KB\n"
     ]
    },
    {
     "data": {
      "text/html": [
       "<div>\n",
       "<style scoped>\n",
       "    .dataframe tbody tr th:only-of-type {\n",
       "        vertical-align: middle;\n",
       "    }\n",
       "\n",
       "    .dataframe tbody tr th {\n",
       "        vertical-align: top;\n",
       "    }\n",
       "\n",
       "    .dataframe thead th {\n",
       "        text-align: right;\n",
       "    }\n",
       "</style>\n",
       "<table border=\"1\" class=\"dataframe\">\n",
       "  <thead>\n",
       "    <tr style=\"text-align: right;\">\n",
       "      <th></th>\n",
       "      <th>Unnamed: 0</th>\n",
       "      <th>Date</th>\n",
       "      <th>Open</th>\n",
       "      <th>High</th>\n",
       "      <th>Low</th>\n",
       "      <th>Close</th>\n",
       "      <th>Adj Close</th>\n",
       "      <th>Volume</th>\n",
       "      <th>Year</th>\n",
       "      <th>Month</th>\n",
       "      <th>Year_Month</th>\n",
       "      <th>Daily_Returns</th>\n",
       "    </tr>\n",
       "  </thead>\n",
       "  <tbody>\n",
       "    <tr>\n",
       "      <th>0</th>\n",
       "      <td>0</td>\n",
       "      <td>2016-01-11</td>\n",
       "      <td>7.805611</td>\n",
       "      <td>7.968349</td>\n",
       "      <td>7.596376</td>\n",
       "      <td>7.706806</td>\n",
       "      <td>6.360966</td>\n",
       "      <td>25998996</td>\n",
       "      <td>2016</td>\n",
       "      <td>1</td>\n",
       "      <td>2016-01</td>\n",
       "      <td>NaN</td>\n",
       "    </tr>\n",
       "    <tr>\n",
       "      <th>1</th>\n",
       "      <td>1</td>\n",
       "      <td>2016-01-12</td>\n",
       "      <td>7.759114</td>\n",
       "      <td>7.799799</td>\n",
       "      <td>7.608000</td>\n",
       "      <td>7.706806</td>\n",
       "      <td>6.360966</td>\n",
       "      <td>21435562</td>\n",
       "      <td>2016</td>\n",
       "      <td>1</td>\n",
       "      <td>2016-01</td>\n",
       "      <td>0.000000</td>\n",
       "    </tr>\n",
       "    <tr>\n",
       "      <th>2</th>\n",
       "      <td>2</td>\n",
       "      <td>2016-01-13</td>\n",
       "      <td>7.759114</td>\n",
       "      <td>7.759114</td>\n",
       "      <td>7.282525</td>\n",
       "      <td>7.410390</td>\n",
       "      <td>6.116314</td>\n",
       "      <td>30489650</td>\n",
       "      <td>2016</td>\n",
       "      <td>1</td>\n",
       "      <td>2016-01</td>\n",
       "      <td>-3.846145</td>\n",
       "    </tr>\n",
       "  </tbody>\n",
       "</table>\n",
       "</div>"
      ],
      "text/plain": [
       "   Unnamed: 0        Date      Open      High       Low     Close  Adj Close  \\\n",
       "0           0  2016-01-11  7.805611  7.968349  7.596376  7.706806   6.360966   \n",
       "1           1  2016-01-12  7.759114  7.799799  7.608000  7.706806   6.360966   \n",
       "2           2  2016-01-13  7.759114  7.759114  7.282525  7.410390   6.116314   \n",
       "\n",
       "     Volume  Year  Month Year_Month  Daily_Returns  \n",
       "0  25998996  2016      1    2016-01            NaN  \n",
       "1  21435562  2016      1    2016-01       0.000000  \n",
       "2  30489650  2016      1    2016-01      -3.846145  "
      ]
     },
     "execution_count": 6,
     "metadata": {},
     "output_type": "execute_result"
    }
   ],
   "source": [
    "df_new[\"Daily_Returns\"] = ((df_new['Adj Close'])/(df_new['Adj Close'].shift(1)) - 1) * 100\n",
    "df_new.info()\n",
    "df_new.head(3)"
   ]
  },
  {
   "cell_type": "code",
   "execution_count": 5,
   "id": "49e8391b",
   "metadata": {
    "slideshow": {
     "slide_type": "subslide"
    },
    "tags": [
     "hide-input"
    ]
   },
   "outputs": [
    {
     "name": "stdout",
     "output_type": "stream",
     "text": [
      "Year\n",
      "2016    0.254171\n",
      "2017    0.044153\n",
      "2018   -0.001365\n",
      "2019    0.099717\n",
      "2020   -0.037727\n",
      "2021    0.142025\n",
      "2022    0.041255\n",
      "Name: Daily_Returns, dtype: float64\n"
     ]
    }
   ],
   "source": [
    "average_yearly_returns = df_new.groupby('Year')['Daily_Returns'].mean()\n",
    "print(average_yearly_returns)"
   ]
  },
  {
   "cell_type": "code",
   "execution_count": 75,
   "id": "37a9f9b9",
   "metadata": {
    "slideshow": {
     "slide_type": "subslide"
    },
    "tags": [
     "hide-input"
    ]
   },
   "outputs": [
    {
     "data": {
      "text/plain": [
       "Text(0.5, 1.0, 'HPE Stock Average Daily Return (2016 - 2022)')"
      ]
     },
     "execution_count": 75,
     "metadata": {},
     "output_type": "execute_result"
    },
    {
     "data": {
      "image/png": "[encoded data removed]",
      "text/plain": [
       "<Figure size 800x500 with 1 Axes>"
      ]
     },
     "metadata": {},
     "output_type": "display_data"
    }
   ],
   "source": [
    "plt.figure(figsize = [8, 5])\n",
    "sns.barplot(data = df_new, x = 'Year', y = 'Daily_Returns', color = colour);\n",
    "plt.ylabel('Daily Return (%)')\n",
    "plt.title('HPE Stock Average Daily Return (2016 - 2022)')"
   ]
  },
  {
   "cell_type": "markdown",
   "id": "f5f41974",
   "metadata": {
    "slideshow": {
     "slide_type": "subslide"
    }
   },
   "source": [
    "> ***Observations:***\n",
    ">\n",
    "> - The year with the highest daily returns was 2016, with an average daily return of `0.254171%`.\n",
    ">\n",
    "> - The year with the lowest daily returns was 2020, with an average daily return of `-0.037727%`."
   ]
  },
  {
   "cell_type": "markdown",
   "id": "1fbb2d4f",
   "metadata": {
    "slideshow": {
     "slide_type": "slide"
    }
   },
   "source": [
    "<a id='q3'></a>\n",
    "**3. What are the average returns per quarter from 2016 to 2022?**\n",
    "\n",
    "- The first step would be creating a column that will be populated by values representing the quarter each date falls in."
   ]
  },
  {
   "cell_type": "code",
   "execution_count": 7,
   "id": "af919e25",
   "metadata": {
    "slideshow": {
     "slide_type": "subslide"
    },
    "tags": [
     "hide-input"
    ]
   },
   "outputs": [
    {
     "name": "stdout",
     "output_type": "stream",
     "text": [
      "<class 'pandas.core.frame.DataFrame'>\n",
      "RangeIndex: 1757 entries, 0 to 1756\n",
      "Data columns (total 13 columns):\n",
      " #   Column         Non-Null Count  Dtype  \n",
      "---  ------         --------------  -----  \n",
      " 0   Unnamed: 0     1757 non-null   int64  \n",
      " 1   Date           1757 non-null   object \n",
      " 2   Open           1757 non-null   float64\n",
      " 3   High           1757 non-null   float64\n",
      " 4   Low            1757 non-null   float64\n",
      " 5   Close          1757 non-null   float64\n",
      " 6   Adj Close      1757 non-null   float64\n",
      " 7   Volume         1757 non-null   int64  \n",
      " 8   Year           1757 non-null   int64  \n",
      " 9   Month          1757 non-null   int64  \n",
      " 10  Year_Month     1757 non-null   object \n",
      " 11  Daily_Returns  1756 non-null   float64\n",
      " 12  Quarters       1757 non-null   object \n",
      "dtypes: float64(6), int64(4), object(3)\n",
      "memory usage: 178.6+ KB\n"
     ]
    },
    {
     "data": {
      "text/html": [
       "<div>\n",
       "<style scoped>\n",
       "    .dataframe tbody tr th:only-of-type {\n",
       "        vertical-align: middle;\n",
       "    }\n",
       "\n",
       "    .dataframe tbody tr th {\n",
       "        vertical-align: top;\n",
       "    }\n",
       "\n",
       "    .dataframe thead th {\n",
       "        text-align: right;\n",
       "    }\n",
       "</style>\n",
       "<table border=\"1\" class=\"dataframe\">\n",
       "  <thead>\n",
       "    <tr style=\"text-align: right;\">\n",
       "      <th></th>\n",
       "      <th>Unnamed: 0</th>\n",
       "      <th>Date</th>\n",
       "      <th>Open</th>\n",
       "      <th>High</th>\n",
       "      <th>Low</th>\n",
       "      <th>Close</th>\n",
       "      <th>Adj Close</th>\n",
       "      <th>Volume</th>\n",
       "      <th>Year</th>\n",
       "      <th>Month</th>\n",
       "      <th>Year_Month</th>\n",
       "      <th>Daily_Returns</th>\n",
       "      <th>Quarters</th>\n",
       "    </tr>\n",
       "  </thead>\n",
       "  <tbody>\n",
       "    <tr>\n",
       "      <th>0</th>\n",
       "      <td>0</td>\n",
       "      <td>2016-01-11</td>\n",
       "      <td>7.805611</td>\n",
       "      <td>7.968349</td>\n",
       "      <td>7.596376</td>\n",
       "      <td>7.706806</td>\n",
       "      <td>6.360966</td>\n",
       "      <td>25998996</td>\n",
       "      <td>2016</td>\n",
       "      <td>1</td>\n",
       "      <td>2016-01</td>\n",
       "      <td>NaN</td>\n",
       "      <td>Q1</td>\n",
       "    </tr>\n",
       "    <tr>\n",
       "      <th>1</th>\n",
       "      <td>1</td>\n",
       "      <td>2016-01-12</td>\n",
       "      <td>7.759114</td>\n",
       "      <td>7.799799</td>\n",
       "      <td>7.608000</td>\n",
       "      <td>7.706806</td>\n",
       "      <td>6.360966</td>\n",
       "      <td>21435562</td>\n",
       "      <td>2016</td>\n",
       "      <td>1</td>\n",
       "      <td>2016-01</td>\n",
       "      <td>0.000000</td>\n",
       "      <td>Q1</td>\n",
       "    </tr>\n",
       "    <tr>\n",
       "      <th>2</th>\n",
       "      <td>2</td>\n",
       "      <td>2016-01-13</td>\n",
       "      <td>7.759114</td>\n",
       "      <td>7.759114</td>\n",
       "      <td>7.282525</td>\n",
       "      <td>7.410390</td>\n",
       "      <td>6.116314</td>\n",
       "      <td>30489650</td>\n",
       "      <td>2016</td>\n",
       "      <td>1</td>\n",
       "      <td>2016-01</td>\n",
       "      <td>-3.846145</td>\n",
       "      <td>Q1</td>\n",
       "    </tr>\n",
       "  </tbody>\n",
       "</table>\n",
       "</div>"
      ],
      "text/plain": [
       "   Unnamed: 0        Date      Open      High       Low     Close  Adj Close  \\\n",
       "0           0  2016-01-11  7.805611  7.968349  7.596376  7.706806   6.360966   \n",
       "1           1  2016-01-12  7.759114  7.799799  7.608000  7.706806   6.360966   \n",
       "2           2  2016-01-13  7.759114  7.759114  7.282525  7.410390   6.116314   \n",
       "\n",
       "     Volume  Year  Month Year_Month  Daily_Returns Quarters  \n",
       "0  25998996  2016      1    2016-01            NaN       Q1  \n",
       "1  21435562  2016      1    2016-01       0.000000       Q1  \n",
       "2  30489650  2016      1    2016-01      -3.846145       Q1  "
      ]
     },
     "execution_count": 7,
     "metadata": {},
     "output_type": "execute_result"
    }
   ],
   "source": [
    "qs = []\n",
    "\n",
    "for x in df_new['Month']:\n",
    "    if ((x == 1) | (x == 2) | (x == 3)):\n",
    "        qs.append(\"Q1\")\n",
    "    elif ((x == 4) | (x == 5) | (x == 6)):\n",
    "        qs.append(\"Q2\")\n",
    "    elif ((x == 7) | (x == 8) | (x == 9)):\n",
    "        qs.append(\"Q3\")\n",
    "    else:\n",
    "        qs.append(\"Q4\")\n",
    "df_new[\"Quarters\"] = qs\n",
    "df_new.info()\n",
    "df_new.head(3)"
   ]
  },
  {
   "cell_type": "code",
   "execution_count": 36,
   "id": "8401b47c",
   "metadata": {
    "slideshow": {
     "slide_type": "subslide"
    },
    "tags": [
     "hide-input"
    ]
   },
   "outputs": [
    {
     "name": "stdout",
     "output_type": "stream",
     "text": [
      "Quarters\n",
      "Q1    0.170759\n",
      "Q2   -0.090000\n",
      "Q3    0.096266\n",
      "Q4    0.133870\n",
      "Name: Daily_Returns, dtype: float64\n"
     ]
    }
   ],
   "source": [
    "quarterly_returns = df_new.groupby('Quarters')['Daily_Returns'].mean()\n",
    "print(quarterly_returns)"
   ]
  },
  {
   "cell_type": "code",
   "execution_count": 74,
   "id": "0e294dae",
   "metadata": {
    "slideshow": {
     "slide_type": "subslide"
    },
    "tags": [
     "hide-input"
    ]
   },
   "outputs": [
    {
     "data": {
      "text/plain": [
       "Text(0.5, 1.0, 'HPE Stock Quarterly Performance (2016 - 2020)')"
      ]
     },
     "execution_count": 74,
     "metadata": {},
     "output_type": "execute_result"
    },
    {
     "data": {
      "image/png": "[encoded data removed]",
      "text/plain": [
       "<Figure size 640x480 with 1 Axes>"
      ]
     },
     "metadata": {},
     "output_type": "display_data"
    }
   ],
   "source": [
    "sns.barplot(data = df_new, x = 'Quarters', y = 'Daily_Returns', color = colour);\n",
    "plt.ylabel('Average Daily Returns (%)');\n",
    "plt.title('HPE Stock Quarterly Performance (2016 - 2020)')"
   ]
  },
  {
   "cell_type": "markdown",
   "id": "d4781d6b",
   "metadata": {
    "slideshow": {
     "slide_type": "subslide"
    }
   },
   "source": [
    "> ***Observations:***\n",
    ">\n",
    "> - Quarter 1 has the highest daily returns with an average daily return of `0.170759%`.\n",
    ">\n",
    "> - Quarter 2 has the lowest daily returns with an average daily return of `-0.090000%`."
   ]
  },
  {
   "cell_type": "markdown",
   "id": "ea25f932",
   "metadata": {
    "slideshow": {
     "slide_type": "slide"
    }
   },
   "source": [
    "- We can also look at how each quarter of each year performed"
   ]
  },
  {
   "cell_type": "code",
   "execution_count": 51,
   "id": "e9c6cf71",
   "metadata": {
    "slideshow": {
     "slide_type": "subslide"
    },
    "tags": [
     "hide-input"
    ]
   },
   "outputs": [
    {
     "name": "stdout",
     "output_type": "stream",
     "text": [
      "Year  Quarters\n",
      "2016  Q1          0.587211\n",
      "      Q2          0.076174\n",
      "      Q3          0.353298\n",
      "      Q4          0.043544\n",
      "2017  Q1          0.055363\n",
      "      Q2         -0.094153\n",
      "      Q3          0.229727\n",
      "      Q4         -0.014148\n",
      "2018  Q1          0.359833\n",
      "      Q2         -0.256672\n",
      "      Q3          0.195476\n",
      "      Q4         -0.288578\n",
      "2019  Q1          0.279611\n",
      "      Q2         -0.025972\n",
      "      Q3          0.054709\n",
      "      Q4          0.096990\n",
      "2020  Q1         -0.658890\n",
      "      Q2          0.091964\n",
      "      Q3         -0.018405\n",
      "      Q4          0.417040\n",
      "2021  Q1          0.501000\n",
      "      Q2         -0.099006\n",
      "      Q3         -0.009068\n",
      "      Q4          0.188233\n",
      "2022  Q1          0.128337\n",
      "      Q2         -0.326074\n",
      "      Q3         -0.128239\n",
      "      Q4          0.489238\n",
      "Name: Daily_Returns, dtype: float64\n"
     ]
    }
   ],
   "source": [
    "quarterly_returns_by_year = df_new.groupby(['Year','Quarters'])['Daily_Returns'].mean()\n",
    "print(quarterly_returns_by_year)"
   ]
  },
  {
   "cell_type": "code",
   "execution_count": 68,
   "id": "bf48b38c",
   "metadata": {
    "scrolled": true,
    "slideshow": {
     "slide_type": "subslide"
    },
    "tags": [
     "hide-input"
    ]
   },
   "outputs": [
    {
     "data": {
      "image/png": "[encoded data removed]",
      "text/plain": [
       "<Figure size 640x480 with 1 Axes>"
      ]
     },
     "metadata": {},
     "output_type": "display_data"
    }
   ],
   "source": [
    "figsize = [8,3]\n",
    "sns.barplot(data = df_new, x = 'Year', y = 'Daily_Returns', hue = 'Quarters', palette = 'Blues_r', ci = None);\n",
    "plt.ylabel('Average Daily Returns (%)')\n",
    "plt.title('HPE Stock Quarterly Returns (2016 - 2022)');"
   ]
  },
  {
   "cell_type": "code",
   "execution_count": 73,
   "id": "79c2d104",
   "metadata": {
    "slideshow": {
     "slide_type": "subslide"
    },
    "tags": [
     "hide-input"
    ]
   },
   "outputs": [
    {
     "name": "stderr",
     "output_type": "stream",
     "text": [
      "C:\\Users\\BOBO\\anaconda3\\lib\\site-packages\\seaborn\\axisgrid.py:670: UserWarning: Using the barplot function without specifying `order` is likely to produce an incorrect plot.\n",
      "  warnings.warn(warning)\n"
     ]
    },
    {
     "data": {
      "image/png": "[encoded data removed]",
      "text/plain": [
       "<Figure size 1200x1200 with 7 Axes>"
      ]
     },
     "metadata": {},
     "output_type": "display_data"
    }
   ],
   "source": [
    "#plotting the quarterly returns per year\n",
    "g = sns.FacetGrid(data = df_new, col = 'Year', height = 4, col_wrap = 3);\n",
    "plt.suptitle('HPE Stock Quarterly Returns (2016 - 2022)');\n",
    "g.map(sns.barplot, 'Quarters', 'Daily_Returns');"
   ]
  },
  {
   "cell_type": "markdown",
   "id": "9bf50357",
   "metadata": {
    "slideshow": {
     "slide_type": "subslide"
    }
   },
   "source": [
    "> ***Observations:***\n",
    ">\n",
    "> - Overall, Quarter 1 of 2016 was the best performing quarter with an average dialy return of `0.587211`.\n",
    ">\n",
    "> - Overall, Quarter 1 of 2020 was the worst performing quarter with an average dialy return of `-0.658890%`."
   ]
  },
  {
   "cell_type": "markdown",
   "id": "b3575807",
   "metadata": {
    "slideshow": {
     "slide_type": "slide"
    }
   },
   "source": [
    "<a id='q4'></a>\n",
    "**4. How was the HPE stock affected by the 2020 pandemic and subsequent lockdowns?**"
   ]
  },
  {
   "cell_type": "code",
   "execution_count": 63,
   "id": "427708e5",
   "metadata": {
    "slideshow": {
     "slide_type": "subslide"
    },
    "tags": [
     "hide-input"
    ]
   },
   "outputs": [
    {
     "name": "stdout",
     "output_type": "stream",
     "text": [
      "Month\n",
      "1    -0.603050\n",
      "2    -0.430498\n",
      "3    -0.909440\n",
      "4     0.228676\n",
      "5    -0.076100\n",
      "6     0.114251\n",
      "7     0.087932\n",
      "8    -0.077411\n",
      "9    -0.070798\n",
      "10   -0.340818\n",
      "11    1.284903\n",
      "12    0.385931\n",
      "Name: Daily_Returns, dtype: float64\n"
     ]
    }
   ],
   "source": [
    "y2020 = df_new.query('Year == 2020')\n",
    "monthly_performance_20 = y2020.groupby('Month')['Daily_Returns'].mean()\n",
    "print(monthly_performance_20)"
   ]
  },
  {
   "cell_type": "code",
   "execution_count": 66,
   "id": "9dafd960",
   "metadata": {
    "slideshow": {
     "slide_type": "subslide"
    },
    "tags": [
     "hide-input"
    ]
   },
   "outputs": [
    {
     "data": {
      "image/png": "[encoded data removed]",
      "text/plain": [
       "<Figure size 640x480 with 1 Axes>"
      ]
     },
     "metadata": {},
     "output_type": "display_data"
    }
   ],
   "source": [
    "sns.barplot(data = y2020, x = 'Month', y = 'Daily_Returns', color = colour);\n",
    "plt.ylabel('Average Daily Return (%)')\n",
    "plt.title('HPE Stock Average Daily Returns (2020)');"
   ]
  },
  {
   "cell_type": "markdown",
   "id": "b45d0d94",
   "metadata": {
    "slideshow": {
     "slide_type": "subslide"
    }
   },
   "source": [
    "> ***Observations:***\n",
    ">\n",
    "> - November had the best stock performance of the year with an average daily return of `1.284903%`.\n",
    ">\n",
    "> - March had the worst stock performance of the year with an average daily return of `-0.909440%`."
   ]
  },
  {
   "cell_type": "code",
   "execution_count": 8,
   "id": "50a25c9f",
   "metadata": {
    "slideshow": {
     "slide_type": "skip"
    }
   },
   "outputs": [],
   "source": [
    "df_new.to_csv('HPE_2.csv')"
   ]
  },
  {
   "cell_type": "markdown",
   "id": "5a7b1755",
   "metadata": {
    "slideshow": {
     "slide_type": "slide"
    }
   },
   "source": [
    "<a id='discussion'></a>\n",
    "## Conclusion"
   ]
  },
  {
   "cell_type": "markdown",
   "id": "0d9b106e",
   "metadata": {
    "slideshow": {
     "slide_type": "subslide"
    }
   },
   "source": [
    "Overall, the HPE stock seems to be relatively stable with average yearly returns of `< 0.3%`. As expected, the stock took it's largest hit in 2020 with investors receiving average returns of `-0.037727%`. The first quarter of the year seems to be the period with the highest returns, netting average returns of `0.170759%`. Conversely, the second quarter of the year appears to yield the least amount of returns, recording average returns of `-0.090000%`.\n",
    "\n",
    "Based on the analysis in this case study on the stock's performance, it would be recommended to invest within the second quarter and hold for a period of about 9 to 12 months in order to see good returns when investing in this stock option."
   ]
  }
 ],
 "metadata": {
  "celltoolbar": "Tags",
  "kernelspec": {
   "display_name": "Python 3 (ipykernel)",
   "language": "python",
   "name": "python3"
  },
  "language_info": {
   "codemirror_mode": {
    "name": "ipython",
    "version": 3
   },
   "file_extension": ".py",
   "mimetype": "text/x-python",
   "name": "python",
   "nbconvert_exporter": "python",
   "pygments_lexer": "ipython3",
   "version": "3.9.12"
  }
 },
 "nbformat": 4,
 "nbformat_minor": 5
}
